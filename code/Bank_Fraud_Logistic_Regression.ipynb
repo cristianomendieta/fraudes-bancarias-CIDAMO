{
 "cells": [
  {
   "cell_type": "code",
   "execution_count": 22,
   "id": "fc950eda",
   "metadata": {},
   "outputs": [],
   "source": [
    "import pandas as pd\n",
    "from sklearn.linear_model import LogisticRegression\n",
    "from sklearn.model_selection import train_test_split\n",
    "import sklearn.metrics as mt\n",
    "from sklearn.preprocessing import MinMaxScaler as mms\n",
    "import matplotlib as plt\n",
    "import matplotlib.pyplot as plt"
   ]
  },
  {
   "cell_type": "code",
   "execution_count": 3,
   "id": "a2706e0e",
   "metadata": {},
   "outputs": [],
   "source": [
    "data_raw = pd.read_csv(\"dadosTrain.csv\")\n",
    "data_over = pd.read_csv(\"oversample_data.csv\")\n",
    "data_under = pd.read_csv(\"undersample_data.csv\")\n",
    "data_smote = pd.read_csv(\"smote_data.csv\")"
   ]
  },
  {
   "cell_type": "code",
   "execution_count": 4,
   "id": "6b14db66",
   "metadata": {},
   "outputs": [],
   "source": [
    "atributes = ['unix_time','amt', 'gender', 'sec', 'faixascategory', 'faixasjob', 'faixascity', 'distGeo']"
   ]
  },
  {
   "cell_type": "markdown",
   "id": "8a1ce580",
   "metadata": {},
   "source": [
    "# DATA TRAIN"
   ]
  },
  {
   "cell_type": "code",
   "execution_count": 438,
   "id": "692b4995",
   "metadata": {},
   "outputs": [],
   "source": [
    "Xr = data_raw[atributes]\n",
    "Yr = data_raw[\"is_fraud\"]"
   ]
  },
  {
   "cell_type": "code",
   "execution_count": 439,
   "id": "44aa2a1d",
   "metadata": {},
   "outputs": [],
   "source": [
    "scaler = mms().fit(Xr)"
   ]
  },
  {
   "cell_type": "code",
   "execution_count": 440,
   "id": "d1778c19",
   "metadata": {},
   "outputs": [],
   "source": [
    "Xr = scaler.transform(Xr)"
   ]
  },
  {
   "cell_type": "code",
   "execution_count": 441,
   "id": "4f2065d6",
   "metadata": {},
   "outputs": [],
   "source": [
    "Xr_train, Xr_test, Yr_train, Yr_test = train_test_split(Xr, Yr, test_size = 0.1, random_state = 42) "
   ]
  },
  {
   "cell_type": "code",
   "execution_count": 442,
   "id": "ed148778",
   "metadata": {},
   "outputs": [],
   "source": [
    "lr = LogisticRegression(penalty= 'l1', C= 1000, solver = 'liblinear', random_state = 42)"
   ]
  },
  {
   "cell_type": "code",
   "execution_count": 443,
   "id": "40454c45",
   "metadata": {
    "scrolled": true
   },
   "outputs": [
    {
     "data": {
      "text/plain": [
       "LogisticRegression(C=1000, penalty='l1', random_state=42, solver='saga')"
      ]
     },
     "execution_count": 443,
     "metadata": {},
     "output_type": "execute_result"
    }
   ],
   "source": [
    "lr.fit(Xr_train, Yr_train)"
   ]
  },
  {
   "cell_type": "code",
   "execution_count": 444,
   "id": "c678828e",
   "metadata": {},
   "outputs": [],
   "source": [
    "Yr_pred = lr.predict(Xr_test)"
   ]
  },
  {
   "cell_type": "code",
   "execution_count": 445,
   "id": "50f46bf2",
   "metadata": {},
   "outputs": [
    {
     "name": "stdout",
     "output_type": "stream",
     "text": [
      "Classification metrics: \n",
      "               precision    recall  f1-score   support\n",
      "\n",
      "           0       0.99      1.00      1.00    128895\n",
      "           1       0.50      0.08      0.13       773\n",
      "\n",
      "    accuracy                           0.99    129668\n",
      "   macro avg       0.75      0.54      0.57    129668\n",
      "weighted avg       0.99      0.99      0.99    129668\n",
      "\n",
      "\n",
      "Confusion Matrix :\n",
      " [[128835     60]\n",
      " [   713     60]]\n",
      "\n",
      "Acuracia: 0.9940386217108307\n",
      "\n",
      "ROC AUC: 0.861540860273816 \n",
      "\n"
     ]
    },
    {
     "data": {
      "image/png": "[encoded data removed]",
      "text/plain": [
       "<Figure size 432x288 with 1 Axes>"
      ]
     },
     "metadata": {
      "needs_background": "light"
     },
     "output_type": "display_data"
    }
   ],
   "source": [
    "print('Classification metrics: \\n', mt.classification_report(Yr_test,Yr_pred))\n",
    "print('\\nConfusion Matrix :\\n', mt.confusion_matrix(Yr_test, Yr_pred))\n",
    "print('\\nAcuracia:', mt.accuracy_score(Yr_test, Yr_pred))\n",
    "\n",
    "Yr_pred_proba = lr.predict_proba(Xr_test)[:,1]\n",
    "fpr, tpr, _ = mt.roc_curve(Yr_test, Yr_pred_proba)\n",
    "print('\\nROC AUC:', mt.roc_auc_score(Yr_test, Yr_pred_proba),'\\n')\n",
    "\n",
    "plt.plot(fpr,tpr)\n",
    "plt.ylabel('True Positive Rate')\n",
    "plt.xlabel('False Positive Rate')\n",
    "plt.show()"
   ]
  },
  {
   "cell_type": "markdown",
   "id": "778b0c8b",
   "metadata": {},
   "source": [
    "# OVERSAMPLE"
   ]
  },
  {
   "cell_type": "code",
   "execution_count": 422,
   "id": "5e5b1f6e",
   "metadata": {},
   "outputs": [],
   "source": [
    "Xo = data_over[atributes]\n",
    "Yo = data_over[\"is_fraud\"]"
   ]
  },
  {
   "cell_type": "code",
   "execution_count": 423,
   "id": "a74a7e28",
   "metadata": {},
   "outputs": [],
   "source": [
    "scaler = mms().fit(Xo)"
   ]
  },
  {
   "cell_type": "code",
   "execution_count": 424,
   "id": "a0b2cbc9",
   "metadata": {},
   "outputs": [],
   "source": [
    "Xo = scaler.transform(Xo)"
   ]
  },
  {
   "cell_type": "code",
   "execution_count": 425,
   "id": "315bf702",
   "metadata": {},
   "outputs": [],
   "source": [
    "Xo_train, Xo_test, Yo_train, Yo_test = train_test_split(Xo, Yo, test_size = 0.2, random_state = 42) "
   ]
  },
  {
   "cell_type": "code",
   "execution_count": 426,
   "id": "e15c590d",
   "metadata": {},
   "outputs": [],
   "source": [
    "lr = LogisticRegression(penalty= 'l1', C= 1000, solver = 'liblinear', random_state = 42)"
   ]
  },
  {
   "cell_type": "code",
   "execution_count": 427,
   "id": "b5d5d6f8",
   "metadata": {},
   "outputs": [
    {
     "data": {
      "text/plain": [
       "LogisticRegression(C=1000, penalty='l1', random_state=42, solver='liblinear')"
      ]
     },
     "execution_count": 427,
     "metadata": {},
     "output_type": "execute_result"
    }
   ],
   "source": [
    "lr.fit(Xo_train, Yo_train)"
   ]
  },
  {
   "cell_type": "code",
   "execution_count": 428,
   "id": "ed074fae",
   "metadata": {},
   "outputs": [],
   "source": [
    "Yo_pred = lr.predict(Xo_test)"
   ]
  },
  {
   "cell_type": "code",
   "execution_count": 429,
   "id": "23423a4b",
   "metadata": {
    "scrolled": true
   },
   "outputs": [
    {
     "name": "stdout",
     "output_type": "stream",
     "text": [
      "Classification metrics: \n",
      "               precision    recall  f1-score   support\n",
      "\n",
      "           0       0.82      0.93      0.87    257186\n",
      "           1       0.92      0.80      0.85    258482\n",
      "\n",
      "    accuracy                           0.86    515668\n",
      "   macro avg       0.87      0.86      0.86    515668\n",
      "weighted avg       0.87      0.86      0.86    515668\n",
      "\n",
      "\n",
      "Confusion Matrix :\n",
      " [[238364  18822]\n",
      " [ 52636 205846]]\n",
      "\n",
      "Acuracia: 0.8614263440818511\n",
      "\n",
      "ROC AUC: 0.91010992993163 \n",
      "\n"
     ]
    },
    {
     "data": {
      "image/png": "[encoded data removed]",
      "text/plain": [
       "<Figure size 432x288 with 1 Axes>"
      ]
     },
     "metadata": {
      "needs_background": "light"
     },
     "output_type": "display_data"
    }
   ],
   "source": [
    "print('Classification metrics: \\n', mt.classification_report(Yo_test,Yo_pred))\n",
    "print('\\nConfusion Matrix :\\n', mt.confusion_matrix(Yo_test, Yo_pred))\n",
    "print('\\nAcuracia:', mt.accuracy_score(Yo_test, Yo_pred))\n",
    "\n",
    "Yo_pred_proba = lr.predict_proba(Xo_test)[:,1]\n",
    "fpr, tpr, _ = mt.roc_curve(Yo_test, Yo_pred_proba)\n",
    "print('\\nROC AUC:', mt.roc_auc_score(Yo_test, Yo_pred_proba),'\\n')\n",
    "\n",
    "plt.plot(fpr,tpr)\n",
    "plt.ylabel('True Positive Rate')\n",
    "plt.xlabel('False Positive Rate')\n",
    "plt.show()"
   ]
  },
  {
   "cell_type": "markdown",
   "id": "58f15722",
   "metadata": {},
   "source": [
    "# UNDERSAMPLE"
   ]
  },
  {
   "cell_type": "code",
   "execution_count": 390,
   "id": "f1195a42",
   "metadata": {},
   "outputs": [],
   "source": [
    "Xu = data_under[atributes]\n",
    "Yu = data_under[\"is_fraud\"]"
   ]
  },
  {
   "cell_type": "code",
   "execution_count": 391,
   "id": "1905d35a",
   "metadata": {},
   "outputs": [],
   "source": [
    "scaler = mms().fit(Xu)"
   ]
  },
  {
   "cell_type": "code",
   "execution_count": 392,
   "id": "3d26efb5",
   "metadata": {},
   "outputs": [],
   "source": [
    "Xu = scaler.transform(Xu)"
   ]
  },
  {
   "cell_type": "code",
   "execution_count": 393,
   "id": "05afa698",
   "metadata": {},
   "outputs": [],
   "source": [
    "Xu_train, Xu_test, Yu_train, Yu_test = train_test_split(Xu, Yu, test_size = 0.2, random_state = 42) "
   ]
  },
  {
   "cell_type": "code",
   "execution_count": 394,
   "id": "3b52b4be",
   "metadata": {},
   "outputs": [],
   "source": [
    "lr = LogisticRegression(penalty= 'l1', C= 1000, solver = 'liblinear', random_state = 42)"
   ]
  },
  {
   "cell_type": "code",
   "execution_count": 395,
   "id": "05925189",
   "metadata": {},
   "outputs": [
    {
     "data": {
      "text/plain": [
       "LogisticRegression(C=1000, penalty='l1', random_state=42, solver='liblinear')"
      ]
     },
     "execution_count": 395,
     "metadata": {},
     "output_type": "execute_result"
    }
   ],
   "source": [
    "lr.fit(Xu_train, Yu_train)"
   ]
  },
  {
   "cell_type": "code",
   "execution_count": 396,
   "id": "2c6372b5",
   "metadata": {},
   "outputs": [],
   "source": [
    "Yu_pred = lr.predict(Xu_test)"
   ]
  },
  {
   "cell_type": "code",
   "execution_count": 397,
   "id": "d7a64751",
   "metadata": {},
   "outputs": [
    {
     "name": "stdout",
     "output_type": "stream",
     "text": [
      "Classification metrics: \n",
      "               precision    recall  f1-score   support\n",
      "\n",
      "           0       0.81      0.92      0.86      1507\n",
      "           1       0.91      0.79      0.84      1496\n",
      "\n",
      "    accuracy                           0.85      3003\n",
      "   macro avg       0.86      0.85      0.85      3003\n",
      "weighted avg       0.86      0.85      0.85      3003\n",
      "\n",
      "\n",
      "Confusion Matrix :\n",
      " [[1386  121]\n",
      " [ 317 1179]]\n",
      "\n",
      "Acuracia: 0.8541458541458542\n",
      "\n",
      "ROC AUC: 0.9104486549400481 \n",
      "\n"
     ]
    },
    {
     "data": {
      "image/png": "[encoded data removed]",
      "text/plain": [
       "<Figure size 432x288 with 1 Axes>"
      ]
     },
     "metadata": {
      "needs_background": "light"
     },
     "output_type": "display_data"
    }
   ],
   "source": [
    "print('Classification metrics: \\n', mt.classification_report(Yu_test,Yu_pred))\n",
    "print('\\nConfusion Matrix :\\n', mt.confusion_matrix(Yu_test, Yu_pred))\n",
    "print('\\nAcuracia:', mt.accuracy_score(Yu_test, Yu_pred))\n",
    "\n",
    "Yu_pred_proba = lr.predict_proba(Xu_test)[:,1]\n",
    "fpr, tpr, _ = mt.roc_curve(Yu_test, Yu_pred_proba)\n",
    "print('\\nROC AUC:', mt.roc_auc_score(Yu_test, Yu_pred_proba),'\\n')\n",
    "\n",
    "plt.plot(fpr,tpr)\n",
    "plt.ylabel('True Positive Rate')\n",
    "plt.xlabel('False Positive Rate')\n",
    "plt.show()"
   ]
  },
  {
   "cell_type": "markdown",
   "id": "4ac7fdf3",
   "metadata": {},
   "source": [
    "# SMOTE"
   ]
  },
  {
   "cell_type": "code",
   "execution_count": 398,
   "id": "890d54ef",
   "metadata": {},
   "outputs": [],
   "source": [
    "Xs = data_smote[atributes]\n",
    "Ys = data_smote[\"is_fraud\"]"
   ]
  },
  {
   "cell_type": "code",
   "execution_count": 399,
   "id": "c3edc96e",
   "metadata": {},
   "outputs": [],
   "source": [
    "scaler = mms().fit(Xs)"
   ]
  },
  {
   "cell_type": "code",
   "execution_count": 400,
   "id": "789ab582",
   "metadata": {},
   "outputs": [],
   "source": [
    "Xs = scaler.transform(Xs)"
   ]
  },
  {
   "cell_type": "code",
   "execution_count": 401,
   "id": "a22887f0",
   "metadata": {},
   "outputs": [],
   "source": [
    "Xs_train, Xs_test, Ys_train, Ys_test = train_test_split(Xs, Ys, test_size = 0.2, random_state = 42 )"
   ]
  },
  {
   "cell_type": "code",
   "execution_count": 402,
   "id": "5c88e937",
   "metadata": {},
   "outputs": [],
   "source": [
    "lr = LogisticRegression(penalty= 'l1', C= 1000, solver = 'saga', random_state = 42)"
   ]
  },
  {
   "cell_type": "code",
   "execution_count": 403,
   "id": "a62f01b0",
   "metadata": {},
   "outputs": [
    {
     "data": {
      "text/plain": [
       "LogisticRegression(C=1000, penalty='l1', random_state=42, solver='liblinear')"
      ]
     },
     "execution_count": 403,
     "metadata": {},
     "output_type": "execute_result"
    }
   ],
   "source": [
    "lr.fit(Xs_train, Ys_train)"
   ]
  },
  {
   "cell_type": "code",
   "execution_count": 404,
   "id": "8f682df0",
   "metadata": {},
   "outputs": [],
   "source": [
    "Ys_pred = lr.predict(Xs_test)"
   ]
  },
  {
   "cell_type": "code",
   "execution_count": 405,
   "id": "b1761b91",
   "metadata": {},
   "outputs": [
    {
     "name": "stdout",
     "output_type": "stream",
     "text": [
      "Classification metrics: \n",
      "               precision    recall  f1-score   support\n",
      "\n",
      "           0       0.86      0.94      0.90    257186\n",
      "           1       0.94      0.85      0.89    258482\n",
      "\n",
      "    accuracy                           0.89    515668\n",
      "   macro avg       0.90      0.89      0.89    515668\n",
      "weighted avg       0.90      0.89      0.89    515668\n",
      "\n",
      "\n",
      "Confusion Matrix :\n",
      " [[242087  15099]\n",
      " [ 39984 218498]]\n",
      "\n",
      "Acuracia: 0.8931812716709201\n",
      "\n",
      "ROC AUC: 0.9481724239483793 \n",
      "\n"
     ]
    },
    {
     "data": {
      "image/png": "[encoded data removed]",
      "text/plain": [
       "<Figure size 432x288 with 1 Axes>"
      ]
     },
     "metadata": {
      "needs_background": "light"
     },
     "output_type": "display_data"
    }
   ],
   "source": [
    "print('Classification metrics: \\n', mt.classification_report(Ys_test,Ys_pred))\n",
    "print('\\nConfusion Matrix :\\n', mt.confusion_matrix(Ys_test, Ys_pred))\n",
    "print('\\nAcuracia:', mt.accuracy_score(Ys_test, Ys_pred))\n",
    "\n",
    "Ys_pred_proba = lr.predict_proba(Xs_test)[:,1]\n",
    "fpr, tpr, _ = mt.roc_curve(Ys_test, Ys_pred_proba)\n",
    "print('\\nROC AUC:', mt.roc_auc_score(Ys_test, Ys_pred_proba),'\\n')\n",
    "\n",
    "plt.plot(fpr,tpr)\n",
    "plt.ylabel('True Positive Rate')\n",
    "plt.xlabel('False Positive Rate')\n",
    "plt.show()"
   ]
  }
 ],
 "metadata": {
  "kernelspec": {
   "display_name": "Python 3 (ipykernel)",
   "language": "python",
   "name": "python3"
  },
  "language_info": {
   "codemirror_mode": {
    "name": "ipython",
    "version": 3
   },
   "file_extension": ".py",
   "mimetype": "text/x-python",
   "name": "python",
   "nbconvert_exporter": "python",
   "pygments_lexer": "ipython3",
   "version": "3.9.7"
  }
 },
 "nbformat": 4,
 "nbformat_minor": 5
}
