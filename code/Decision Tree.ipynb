{
 "cells": [
  {
   "cell_type": "code",
   "execution_count": 33,
   "id": "f0310bf9",
   "metadata": {},
   "outputs": [],
   "source": [
    "import pandas as pd\n",
    "from sklearn.tree import DecisionTreeClassifier,export_graphviz\n",
    "from sklearn import metrics"
   ]
  },
  {
   "cell_type": "code",
   "execution_count": 16,
   "id": "6b772aad",
   "metadata": {},
   "outputs": [],
   "source": [
    "data_train =  pd.read_csv('../data/dadosTrain.csv')\n",
    "data_undersample = pd.read_csv('../data/undersample_data.csv')\n",
    "data_oversample = pd.read_csv('../data/oversample_data.csv')\n",
    "data_smote = pd.read_csv('../data/smote_data.csv')"
   ]
  },
  {
   "cell_type": "code",
   "execution_count": 17,
   "id": "80824847",
   "metadata": {},
   "outputs": [],
   "source": [
    "data_test = pd.read_csv('../data/fraudTest.csv')"
   ]
  },
  {
   "cell_type": "code",
   "execution_count": 28,
   "id": "b3fb2b73",
   "metadata": {},
   "outputs": [],
   "source": [
    "data_train['gender'] = data_train['gender'].replace('F', 0)\n",
    "data_train['gender'] = data_train['gender'].replace('M', 1)\n",
    "data_test['gender'] = data_test['gender'].replace('F', 0)\n",
    "data_test['gender'] = data_test['gender'].replace('M', 1)"
   ]
  },
  {
   "cell_type": "code",
   "execution_count": 29,
   "id": "16c0b7e7",
   "metadata": {},
   "outputs": [
    {
     "data": {
      "text/plain": [
       "Index(['Unnamed: 0', 'X', 'date', 'time', 'cc_num', 'merchant', 'category',\n",
       "       'amt', 'first', 'last', 'gender', 'street', 'city', 'state', 'zip',\n",
       "       'lat', 'long', 'city_pop', 'job', 'dob', 'trans_num', 'unix_time',\n",
       "       'merch_lat', 'merch_long', 'is_fraud', 'faixascategory', 'faixasjob',\n",
       "       'faixascity', 'distGeo'],\n",
       "      dtype='object')"
      ]
     },
     "execution_count": 29,
     "metadata": {},
     "output_type": "execute_result"
    }
   ],
   "source": [
    "data_train.columns"
   ]
  },
  {
   "cell_type": "code",
   "execution_count": 30,
   "id": "c1f954f0",
   "metadata": {},
   "outputs": [],
   "source": [
    "atributes = ['cc_num', 'gender', 'amt', 'zip', 'lat', 'long', 'merch_lat', 'merch_long','city_pop', 'unix_time']"
   ]
  },
  {
   "cell_type": "markdown",
   "id": "6ac61cac",
   "metadata": {},
   "source": [
    "## Modelo sem resampling de dados"
   ]
  },
  {
   "cell_type": "code",
   "execution_count": 36,
   "id": "d796d615",
   "metadata": {},
   "outputs": [],
   "source": [
    "X_train = data_train[atributes]\n",
    "y_train = data_train['is_fraud']\n",
    "X_test = data_test[atributes]\n",
    "y_test = data_test['is_fraud']"
   ]
  },
  {
   "cell_type": "code",
   "execution_count": 37,
   "id": "a53680c2",
   "metadata": {},
   "outputs": [],
   "source": [
    "dt = DecisionTreeClassifier()"
   ]
  },
  {
   "cell_type": "code",
   "execution_count": 38,
   "id": "f15e4078",
   "metadata": {},
   "outputs": [],
   "source": [
    "dt = dt.fit(X_train, y_train)"
   ]
  },
  {
   "cell_type": "code",
   "execution_count": 39,
   "id": "13ca760f",
   "metadata": {},
   "outputs": [
    {
     "name": "stdout",
     "output_type": "stream",
     "text": [
      "cc_num:0.07303886435183417\n",
      "gender:0.015580246576865136\n",
      "amt:0.34839476693831684\n",
      "zip:0.0513099111206614\n",
      "lat:0.04682750850982028\n",
      "long:0.042477606059535426\n",
      "merch_lat:0.08955389344559973\n",
      "merch_long:0.09095754105205729\n",
      "city_pop:0.07893859226942787\n",
      "unix_time:0.16292106967588194\n"
     ]
    }
   ],
   "source": [
    "for atribute,importance in zip(X_train.columns,dt.feature_importances_):\n",
    "    print(\"{}:{}\".format(atribute, importance))"
   ]
  },
  {
   "cell_type": "code",
   "execution_count": 40,
   "id": "d6739764",
   "metadata": {},
   "outputs": [],
   "source": [
    "result = dt.predict(X_test)"
   ]
  },
  {
   "cell_type": "code",
   "execution_count": 41,
   "id": "c4151a0b",
   "metadata": {},
   "outputs": [
    {
     "name": "stdout",
     "output_type": "stream",
     "text": [
      "              precision    recall  f1-score   support\n",
      "\n",
      "           0       1.00      0.98      0.99    553574\n",
      "           1       0.06      0.29      0.10      2145\n",
      "\n",
      "    accuracy                           0.98    555719\n",
      "   macro avg       0.53      0.64      0.54    555719\n",
      "weighted avg       0.99      0.98      0.99    555719\n",
      "\n"
     ]
    }
   ],
   "source": [
    "print(metrics.classification_report(y_test,result))"
   ]
  },
  {
   "cell_type": "markdown",
   "id": "879b1c01",
   "metadata": {},
   "source": [
    "## Modelo com Undersample"
   ]
  },
  {
   "cell_type": "code",
   "execution_count": 42,
   "id": "b10b1ab8",
   "metadata": {},
   "outputs": [
    {
     "name": "stdout",
     "output_type": "stream",
     "text": [
      "cc_num:0.035157869098019844\n",
      "gender:0.0068785459337447905\n",
      "amt:0.7479673772175172\n",
      "zip:0.02076713782697981\n",
      "lat:0.0225712860631545\n",
      "long:0.022251516843556217\n",
      "merch_lat:0.02898894257006043\n",
      "merch_long:0.0272447176200906\n",
      "city_pop:0.040076149654619024\n",
      "unix_time:0.048096457172257426\n"
     ]
    }
   ],
   "source": [
    "X_train = data_undersample[atributes]\n",
    "y_train = data_undersample['is_fraud']\n",
    "\n",
    "dt = DecisionTreeClassifier()\n",
    "dt = dt.fit(X_train, y_train)\n",
    "for atribute,importance in zip(X_train.columns,dt.feature_importances_):\n",
    "    print(\"{}:{}\".format(atribute, importance))"
   ]
  },
  {
   "cell_type": "code",
   "execution_count": 43,
   "id": "55563ae3",
   "metadata": {},
   "outputs": [
    {
     "name": "stdout",
     "output_type": "stream",
     "text": [
      "              precision    recall  f1-score   support\n",
      "\n",
      "           0       1.00      0.84      0.91    553574\n",
      "           1       0.02      0.82      0.04      2145\n",
      "\n",
      "    accuracy                           0.84    555719\n",
      "   macro avg       0.51      0.83      0.48    555719\n",
      "weighted avg       1.00      0.84      0.91    555719\n",
      "\n"
     ]
    }
   ],
   "source": [
    "result = dt.predict(X_test)\n",
    "print(metrics.classification_report(y_test,result))"
   ]
  },
  {
   "cell_type": "markdown",
   "id": "fa395a1c",
   "metadata": {},
   "source": [
    "## Modelo com Oversample"
   ]
  },
  {
   "cell_type": "code",
   "execution_count": 44,
   "id": "31288015",
   "metadata": {},
   "outputs": [
    {
     "name": "stdout",
     "output_type": "stream",
     "text": [
      "cc_num:0.035514046999664234\n",
      "gender:0.0069018993820417875\n",
      "amt:0.740213591921383\n",
      "zip:0.020882835104268797\n",
      "lat:0.022984684847698687\n",
      "long:0.014848964008134631\n",
      "merch_lat:0.03252164338583457\n",
      "merch_long:0.02954975009400198\n",
      "city_pop:0.03998753063231322\n",
      "unix_time:0.056595053624659115\n"
     ]
    }
   ],
   "source": [
    "X_train = data_oversample[atributes]\n",
    "y_train = data_oversample['is_fraud']\n",
    "\n",
    "dt = DecisionTreeClassifier()\n",
    "dt = dt.fit(X_train, y_train)\n",
    "for atribute,importance in zip(X_train.columns,dt.feature_importances_):\n",
    "    print(\"{}:{}\".format(atribute, importance))"
   ]
  },
  {
   "cell_type": "code",
   "execution_count": 45,
   "id": "8872de56",
   "metadata": {},
   "outputs": [
    {
     "name": "stdout",
     "output_type": "stream",
     "text": [
      "              precision    recall  f1-score   support\n",
      "\n",
      "           0       1.00      1.00      1.00    553574\n",
      "           1       0.06      0.03      0.04      2145\n",
      "\n",
      "    accuracy                           0.99    555719\n",
      "   macro avg       0.53      0.51      0.52    555719\n",
      "weighted avg       0.99      0.99      0.99    555719\n",
      "\n"
     ]
    }
   ],
   "source": [
    "result = dt.predict(X_test)\n",
    "print(metrics.classification_report(y_test,result))"
   ]
  },
  {
   "cell_type": "markdown",
   "id": "eef070cf",
   "metadata": {},
   "source": [
    "## Modelo com SMOTE"
   ]
  },
  {
   "cell_type": "code",
   "execution_count": 48,
   "id": "4362ee1a",
   "metadata": {},
   "outputs": [
    {
     "name": "stdout",
     "output_type": "stream",
     "text": [
      "cc_num:0.04354783229982106\n",
      "gender:0.006069660287179572\n",
      "amt:0.6581208207172512\n",
      "zip:0.026756238703997886\n",
      "lat:0.031908550874169855\n",
      "long:0.02188133757431967\n",
      "merch_lat:0.02276575682334704\n",
      "merch_long:0.02534389757638329\n",
      "city_pop:0.03988571340831914\n",
      "unix_time:0.12372019173521122\n"
     ]
    }
   ],
   "source": [
    "X_train = data_smote[atributes]\n",
    "y_train = data_smote['is_fraud']\n",
    "\n",
    "dt = DecisionTreeClassifier()\n",
    "dt = dt.fit(X_train, y_train)\n",
    "for atribute,importance in zip(X_train.columns,dt.feature_importances_):\n",
    "    print(\"{}:{}\".format(atribute, importance))"
   ]
  },
  {
   "cell_type": "code",
   "execution_count": 49,
   "id": "f650d628",
   "metadata": {},
   "outputs": [
    {
     "name": "stdout",
     "output_type": "stream",
     "text": [
      "              precision    recall  f1-score   support\n",
      "\n",
      "           0       1.00      0.98      0.99    553574\n",
      "           1       0.01      0.02      0.01      2145\n",
      "\n",
      "    accuracy                           0.98    555719\n",
      "   macro avg       0.50      0.50      0.50    555719\n",
      "weighted avg       0.99      0.98      0.99    555719\n",
      "\n"
     ]
    }
   ],
   "source": [
    "result = dt.predict(X_test)\n",
    "print(metrics.classification_report(y_test,result))"
   ]
  }
 ],
 "metadata": {
  "kernelspec": {
   "display_name": "Python 3 (ipykernel)",
   "language": "python",
   "name": "python3"
  },
  "language_info": {
   "codemirror_mode": {
    "name": "ipython",
    "version": 3
   },
   "file_extension": ".py",
   "mimetype": "text/x-python",
   "name": "python",
   "nbconvert_exporter": "python",
   "pygments_lexer": "ipython3",
   "version": "3.10.2"
  }
 },
 "nbformat": 4,
 "nbformat_minor": 5
}
