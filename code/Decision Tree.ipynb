{
 "cells": [
  {
   "cell_type": "code",
   "execution_count": 21,
   "id": "3f3a47c9",
   "metadata": {},
   "outputs": [],
   "source": [
    "import pandas as pd\n",
    "from sklearn.tree import DecisionTreeClassifier,export_graphviz\n",
    "from sklearn import metrics\n",
    "from sklearn.metrics import make_scorer, accuracy_score, precision_score, recall_score, f1_score\n",
    "\n",
    "from sklearn.model_selection import GridSearchCV\n",
    "import matplotlib.pyplot as plt"
   ]
  },
  {
   "cell_type": "code",
   "execution_count": 2,
   "id": "a4ac92b3",
   "metadata": {},
   "outputs": [],
   "source": [
    "data_train =  pd.read_csv('../data/cidamo/dadosTrain.csv')\n",
    "data_undersample = pd.read_csv('../data/cidamo/undersample_data.csv')\n",
    "data_oversample = pd.read_csv('../data/cidamo/oversample_data.csv')\n",
    "data_smote = pd.read_csv('../data/cidamo/smote_data.csv')"
   ]
  },
  {
   "cell_type": "code",
   "execution_count": 3,
   "id": "2473d263",
   "metadata": {},
   "outputs": [],
   "source": [
    "data_test = pd.read_csv('../data/cidamo/dadosTest.csv')"
   ]
  },
  {
   "cell_type": "code",
   "execution_count": 4,
   "id": "39cd2b2b",
   "metadata": {},
   "outputs": [
    {
     "data": {
      "text/html": [
       "<div>\n",
       "<style scoped>\n",
       "    .dataframe tbody tr th:only-of-type {\n",
       "        vertical-align: middle;\n",
       "    }\n",
       "\n",
       "    .dataframe tbody tr th {\n",
       "        vertical-align: top;\n",
       "    }\n",
       "\n",
       "    .dataframe thead th {\n",
       "        text-align: right;\n",
       "    }\n",
       "</style>\n",
       "<table border=\"1\" class=\"dataframe\">\n",
       "  <thead>\n",
       "    <tr style=\"text-align: right;\">\n",
       "      <th></th>\n",
       "      <th>Unnamed: 0</th>\n",
       "      <th>X</th>\n",
       "      <th>date</th>\n",
       "      <th>time</th>\n",
       "      <th>cc_num</th>\n",
       "      <th>merchant</th>\n",
       "      <th>category</th>\n",
       "      <th>amt</th>\n",
       "      <th>first</th>\n",
       "      <th>last</th>\n",
       "      <th>...</th>\n",
       "      <th>trans_num</th>\n",
       "      <th>unix_time</th>\n",
       "      <th>merch_lat</th>\n",
       "      <th>merch_long</th>\n",
       "      <th>is_fraud</th>\n",
       "      <th>sec</th>\n",
       "      <th>faixascategory</th>\n",
       "      <th>faixasjob</th>\n",
       "      <th>faixascity</th>\n",
       "      <th>distGeo</th>\n",
       "    </tr>\n",
       "  </thead>\n",
       "  <tbody>\n",
       "    <tr>\n",
       "      <th>0</th>\n",
       "      <td>1</td>\n",
       "      <td>0</td>\n",
       "      <td>2019-01-01</td>\n",
       "      <td>00:00:18</td>\n",
       "      <td>2.703186e+15</td>\n",
       "      <td>fraud_Rippin, Kub and Mann</td>\n",
       "      <td>misc_net</td>\n",
       "      <td>4.97</td>\n",
       "      <td>Jennifer</td>\n",
       "      <td>Banks</td>\n",
       "      <td>...</td>\n",
       "      <td>0b242abb623afc578575680df30655b9</td>\n",
       "      <td>1325376018</td>\n",
       "      <td>36.011293</td>\n",
       "      <td>-82.048315</td>\n",
       "      <td>0</td>\n",
       "      <td>18</td>\n",
       "      <td>9</td>\n",
       "      <td>2</td>\n",
       "      <td>1</td>\n",
       "      <td>78773.820754</td>\n",
       "    </tr>\n",
       "    <tr>\n",
       "      <th>1</th>\n",
       "      <td>2</td>\n",
       "      <td>1</td>\n",
       "      <td>2019-01-01</td>\n",
       "      <td>00:00:44</td>\n",
       "      <td>6.304233e+11</td>\n",
       "      <td>fraud_Heller, Gutmann and Zieme</td>\n",
       "      <td>grocery_pos</td>\n",
       "      <td>107.23</td>\n",
       "      <td>Stephanie</td>\n",
       "      <td>Gill</td>\n",
       "      <td>...</td>\n",
       "      <td>1f76529f8574734946361c461b024d99</td>\n",
       "      <td>1325376044</td>\n",
       "      <td>49.159047</td>\n",
       "      <td>-118.186462</td>\n",
       "      <td>0</td>\n",
       "      <td>44</td>\n",
       "      <td>8</td>\n",
       "      <td>2</td>\n",
       "      <td>1</td>\n",
       "      <td>30216.618410</td>\n",
       "    </tr>\n",
       "    <tr>\n",
       "      <th>2</th>\n",
       "      <td>3</td>\n",
       "      <td>2</td>\n",
       "      <td>2019-01-01</td>\n",
       "      <td>00:00:51</td>\n",
       "      <td>3.885949e+13</td>\n",
       "      <td>fraud_Lind-Buckridge</td>\n",
       "      <td>entertainment</td>\n",
       "      <td>220.11</td>\n",
       "      <td>Edward</td>\n",
       "      <td>Sanchez</td>\n",
       "      <td>...</td>\n",
       "      <td>a1a22d70485983eac12b5b88dad1cf95</td>\n",
       "      <td>1325376051</td>\n",
       "      <td>43.150704</td>\n",
       "      <td>-112.154481</td>\n",
       "      <td>0</td>\n",
       "      <td>51</td>\n",
       "      <td>1</td>\n",
       "      <td>4</td>\n",
       "      <td>1</td>\n",
       "      <td>108102.911712</td>\n",
       "    </tr>\n",
       "    <tr>\n",
       "      <th>3</th>\n",
       "      <td>4</td>\n",
       "      <td>3</td>\n",
       "      <td>2019-01-01</td>\n",
       "      <td>00:01:16</td>\n",
       "      <td>3.534094e+15</td>\n",
       "      <td>fraud_Kutch, Hermiston and Farrell</td>\n",
       "      <td>gas_transport</td>\n",
       "      <td>45.00</td>\n",
       "      <td>Jeremy</td>\n",
       "      <td>White</td>\n",
       "      <td>...</td>\n",
       "      <td>6b849c168bdad6f867558c3793159a81</td>\n",
       "      <td>1325376076</td>\n",
       "      <td>47.034331</td>\n",
       "      <td>-112.561071</td>\n",
       "      <td>0</td>\n",
       "      <td>76</td>\n",
       "      <td>2</td>\n",
       "      <td>3</td>\n",
       "      <td>7</td>\n",
       "      <td>95685.115476</td>\n",
       "    </tr>\n",
       "    <tr>\n",
       "      <th>4</th>\n",
       "      <td>5</td>\n",
       "      <td>4</td>\n",
       "      <td>2019-01-01</td>\n",
       "      <td>00:03:06</td>\n",
       "      <td>3.755342e+14</td>\n",
       "      <td>fraud_Keeling-Crist</td>\n",
       "      <td>misc_pos</td>\n",
       "      <td>41.96</td>\n",
       "      <td>Tyler</td>\n",
       "      <td>Garcia</td>\n",
       "      <td>...</td>\n",
       "      <td>a41d7549acf90789359a9aa5346dcb46</td>\n",
       "      <td>1325376186</td>\n",
       "      <td>38.674999</td>\n",
       "      <td>-78.632459</td>\n",
       "      <td>0</td>\n",
       "      <td>186</td>\n",
       "      <td>1</td>\n",
       "      <td>1</td>\n",
       "      <td>1</td>\n",
       "      <td>77702.395165</td>\n",
       "    </tr>\n",
       "  </tbody>\n",
       "</table>\n",
       "<p>5 rows × 30 columns</p>\n",
       "</div>"
      ],
      "text/plain": [
       "   Unnamed: 0  X        date      time        cc_num  \\\n",
       "0           1  0  2019-01-01  00:00:18  2.703186e+15   \n",
       "1           2  1  2019-01-01  00:00:44  6.304233e+11   \n",
       "2           3  2  2019-01-01  00:00:51  3.885949e+13   \n",
       "3           4  3  2019-01-01  00:01:16  3.534094e+15   \n",
       "4           5  4  2019-01-01  00:03:06  3.755342e+14   \n",
       "\n",
       "                             merchant       category     amt      first  \\\n",
       "0          fraud_Rippin, Kub and Mann       misc_net    4.97   Jennifer   \n",
       "1     fraud_Heller, Gutmann and Zieme    grocery_pos  107.23  Stephanie   \n",
       "2                fraud_Lind-Buckridge  entertainment  220.11     Edward   \n",
       "3  fraud_Kutch, Hermiston and Farrell  gas_transport   45.00     Jeremy   \n",
       "4                 fraud_Keeling-Crist       misc_pos   41.96      Tyler   \n",
       "\n",
       "      last  ...                         trans_num   unix_time  merch_lat  \\\n",
       "0    Banks  ...  0b242abb623afc578575680df30655b9  1325376018  36.011293   \n",
       "1     Gill  ...  1f76529f8574734946361c461b024d99  1325376044  49.159047   \n",
       "2  Sanchez  ...  a1a22d70485983eac12b5b88dad1cf95  1325376051  43.150704   \n",
       "3    White  ...  6b849c168bdad6f867558c3793159a81  1325376076  47.034331   \n",
       "4   Garcia  ...  a41d7549acf90789359a9aa5346dcb46  1325376186  38.674999   \n",
       "\n",
       "   merch_long  is_fraud  sec  faixascategory  faixasjob faixascity  \\\n",
       "0  -82.048315         0   18               9          2          1   \n",
       "1 -118.186462         0   44               8          2          1   \n",
       "2 -112.154481         0   51               1          4          1   \n",
       "3 -112.561071         0   76               2          3          7   \n",
       "4  -78.632459         0  186               1          1          1   \n",
       "\n",
       "         distGeo  \n",
       "0   78773.820754  \n",
       "1   30216.618410  \n",
       "2  108102.911712  \n",
       "3   95685.115476  \n",
       "4   77702.395165  \n",
       "\n",
       "[5 rows x 30 columns]"
      ]
     },
     "execution_count": 4,
     "metadata": {},
     "output_type": "execute_result"
    }
   ],
   "source": [
    "data_train.head()"
   ]
  },
  {
   "cell_type": "code",
   "execution_count": 5,
   "id": "af83292c",
   "metadata": {},
   "outputs": [
    {
     "data": {
      "text/plain": [
       "Index(['Unnamed: 0', 'X', 'date', 'time', 'cc_num', 'merchant', 'category',\n",
       "       'amt', 'first', 'last', 'gender', 'street', 'city', 'state', 'zip',\n",
       "       'lat', 'long', 'city_pop', 'job', 'dob', 'trans_num', 'unix_time',\n",
       "       'merch_lat', 'merch_long', 'is_fraud', 'sec', 'faixascategory',\n",
       "       'faixasjob', 'faixascity', 'distGeo'],\n",
       "      dtype='object')"
      ]
     },
     "execution_count": 5,
     "metadata": {},
     "output_type": "execute_result"
    }
   ],
   "source": [
    "data_train.columns"
   ]
  },
  {
   "cell_type": "code",
   "execution_count": 6,
   "id": "bc4a9afd",
   "metadata": {},
   "outputs": [],
   "source": [
    "atributes = ['amt', 'gender', 'unix_time', 'sec', 'faixascategory', 'faixasjob', 'faixascity', 'distGeo']"
   ]
  },
  {
   "cell_type": "markdown",
   "id": "69fc5f69",
   "metadata": {},
   "source": [
    "## Grid Search"
   ]
  },
  {
   "cell_type": "code",
   "execution_count": 7,
   "id": "6cf42f19",
   "metadata": {},
   "outputs": [],
   "source": [
    "dt = DecisionTreeClassifier(random_state=42)\n",
    "\n",
    "scoring = {'precision': make_scorer(precision_score, average = 'macro'),\n",
    "           'recall': make_scorer(recall_score, average = 'macro'),\n",
    "           'f1': make_scorer(f1_score, average = 'macro')}\n",
    "\n",
    "grid_values = {'criterion': ['gini', 'entropy'], 'max_depth': [2,3,4,5]}\n",
    "\n",
    "grid_search_dt = GridSearchCV(dt, param_grid = grid_values, scoring = scoring, refit= 'recall')"
   ]
  },
  {
   "cell_type": "markdown",
   "id": "d29c7974",
   "metadata": {},
   "source": [
    "## Modelo sem resampling de dados"
   ]
  },
  {
   "cell_type": "code",
   "execution_count": 8,
   "id": "1547a40e",
   "metadata": {},
   "outputs": [],
   "source": [
    "X_train = data_train[atributes]\n",
    "y_train = data_train['is_fraud']\n",
    "X_test = data_test[atributes]\n",
    "y_test = data_test['is_fraud']"
   ]
  },
  {
   "cell_type": "code",
   "execution_count": 9,
   "id": "b4224266",
   "metadata": {},
   "outputs": [
    {
     "name": "stderr",
     "output_type": "stream",
     "text": [
      "/home/cristianom/.local/lib/python3.10/site-packages/sklearn/metrics/_classification.py:1318: UndefinedMetricWarning: Precision is ill-defined and being set to 0.0 in labels with no predicted samples. Use `zero_division` parameter to control this behavior.\n",
      "  _warn_prf(average, modifier, msg_start, len(result))\n",
      "/home/cristianom/.local/lib/python3.10/site-packages/sklearn/metrics/_classification.py:1318: UndefinedMetricWarning: Precision is ill-defined and being set to 0.0 in labels with no predicted samples. Use `zero_division` parameter to control this behavior.\n",
      "  _warn_prf(average, modifier, msg_start, len(result))\n",
      "/home/cristianom/.local/lib/python3.10/site-packages/sklearn/metrics/_classification.py:1318: UndefinedMetricWarning: Precision is ill-defined and being set to 0.0 in labels with no predicted samples. Use `zero_division` parameter to control this behavior.\n",
      "  _warn_prf(average, modifier, msg_start, len(result))\n",
      "/home/cristianom/.local/lib/python3.10/site-packages/sklearn/metrics/_classification.py:1318: UndefinedMetricWarning: Precision is ill-defined and being set to 0.0 in labels with no predicted samples. Use `zero_division` parameter to control this behavior.\n",
      "  _warn_prf(average, modifier, msg_start, len(result))\n"
     ]
    },
    {
     "data": {
      "text/plain": [
       "GridSearchCV(estimator=DecisionTreeClassifier(random_state=42),\n",
       "             param_grid={'criterion': ['gini', 'entropy'],\n",
       "                         'max_depth': [2, 3, 4, 5]},\n",
       "             refit='recall',\n",
       "             scoring={'f1': make_scorer(f1_score, average=macro),\n",
       "                      'precision': make_scorer(precision_score, average=macro),\n",
       "                      'recall': make_scorer(recall_score, average=macro)})"
      ]
     },
     "execution_count": 9,
     "metadata": {},
     "output_type": "execute_result"
    }
   ],
   "source": [
    "grid_search_dt.fit(X_train, y_train)"
   ]
  },
  {
   "cell_type": "code",
   "execution_count": 10,
   "id": "e6156cfe",
   "metadata": {},
   "outputs": [],
   "source": [
    "gs_params = grid_search_dt.best_params_"
   ]
  },
  {
   "cell_type": "code",
   "execution_count": 14,
   "id": "92b266ad",
   "metadata": {},
   "outputs": [
    {
     "name": "stdout",
     "output_type": "stream",
     "text": [
      "amt:0.6897270239934619\n",
      "gender:0.0\n",
      "unix_time:0.0\n",
      "sec:0.2063451661950029\n",
      "faixascategory:0.05690237234416067\n",
      "faixasjob:0.0\n",
      "faixascity:0.04662560814236938\n",
      "distGeo:0.0003998293250052352\n"
     ]
    }
   ],
   "source": [
    "dt = DecisionTreeClassifier(random_state=42, criterion=gs_params['criterion'], max_depth=gs_params['max_depth'])\n",
    "dt = dt.fit(X_train, y_train)\n",
    "for atribute,importance in zip(X_train.columns,dt.feature_importances_):\n",
    "    print(\"{}:{}\".format(atribute, importance))"
   ]
  },
  {
   "cell_type": "code",
   "execution_count": 15,
   "id": "60909c1d",
   "metadata": {},
   "outputs": [],
   "source": [
    "result = grid_search_dt.predict(X_test)"
   ]
  },
  {
   "cell_type": "code",
   "execution_count": 16,
   "id": "6c0f7c3f",
   "metadata": {},
   "outputs": [
    {
     "name": "stdout",
     "output_type": "stream",
     "text": [
      "              precision    recall  f1-score   support\n",
      "\n",
      "           0       1.00      1.00      1.00    553574\n",
      "           1       0.14      0.07      0.09      2010\n",
      "\n",
      "    accuracy                           1.00    555584\n",
      "   macro avg       0.57      0.53      0.55    555584\n",
      "weighted avg       0.99      1.00      0.99    555584\n",
      "\n"
     ]
    }
   ],
   "source": [
    "print(metrics.classification_report(y_test,result))"
   ]
  },
  {
   "cell_type": "code",
   "execution_count": 23,
   "id": "419e6bcf",
   "metadata": {},
   "outputs": [
    {
     "name": "stdout",
     "output_type": "stream",
     "text": [
      "\n",
      "ROC AUC:  0.3499376916391354\n"
     ]
    },
    {
     "data": {
      "image/png": "[encoded data removed]",
      "text/plain": [
       "<Figure size 432x288 with 1 Axes>"
      ]
     },
     "metadata": {
      "needs_background": "light"
     },
     "output_type": "display_data"
    }
   ],
   "source": [
    "y_predict_proba = dt.predict_proba(X_test)[:,1]\n",
    "fpr, tpr, _ = metrics.roc_curve(y_test, y_predict_proba)\n",
    "print('\\nROC AUC: ', metrics.roc_auc_score(y_test, y_predict_proba))\n",
    "\n",
    "plt.plot(fpr, tpr)\n",
    "plt.ylabel('True Positive Rate')\n",
    "plt.xlabel('False Positive Rate')\n",
    "plt.show()"
   ]
  },
  {
   "cell_type": "code",
   "execution_count": 24,
   "id": "b391bd91",
   "metadata": {},
   "outputs": [
    {
     "name": "stdout",
     "output_type": "stream",
     "text": [
      "[[552725    849]\n",
      " [  1870    140]]\n"
     ]
    }
   ],
   "source": [
    "print(metrics.confusion_matrix(y_test, result))"
   ]
  },
  {
   "cell_type": "markdown",
   "id": "6fc096e2",
   "metadata": {},
   "source": [
    "## Modelo com Undersample"
   ]
  },
  {
   "cell_type": "code",
   "execution_count": 25,
   "id": "d6846de6",
   "metadata": {},
   "outputs": [
    {
     "data": {
      "text/plain": [
       "GridSearchCV(estimator=DecisionTreeClassifier(random_state=42),\n",
       "             param_grid={'criterion': ['gini', 'entropy'],\n",
       "                         'max_depth': [2, 3, 4, 5]},\n",
       "             refit='recall',\n",
       "             scoring={'f1': make_scorer(f1_score, average=macro),\n",
       "                      'precision': make_scorer(precision_score, average=macro),\n",
       "                      'recall': make_scorer(recall_score, average=macro)})"
      ]
     },
     "execution_count": 25,
     "metadata": {},
     "output_type": "execute_result"
    }
   ],
   "source": [
    "X_train_under = data_undersample[atributes]\n",
    "y_train_under = data_undersample['is_fraud']\n",
    "\n",
    "grid_search_dt.fit(X_train_under, y_train_under)"
   ]
  },
  {
   "cell_type": "code",
   "execution_count": 26,
   "id": "c27af807",
   "metadata": {},
   "outputs": [],
   "source": [
    "gs_params = grid_search_dt.best_params_"
   ]
  },
  {
   "cell_type": "code",
   "execution_count": 38,
   "id": "8f73afa3",
   "metadata": {},
   "outputs": [
    {
     "name": "stdout",
     "output_type": "stream",
     "text": [
      "amt:0.7101259237227363\n",
      "gender:0.0007175216600514063\n",
      "unix_time:0.0\n",
      "sec:0.11009524132435565\n",
      "faixascategory:0.1544835389251182\n",
      "faixasjob:0.0\n",
      "faixascity:0.024577774367738465\n",
      "distGeo:0.0\n"
     ]
    }
   ],
   "source": [
    "dt = DecisionTreeClassifier(random_state=42, criterion=gs_params['criterion'], max_depth=gs_params['max_depth'])\n",
    "dt = dt.fit(X_train_under, y_train_under)\n",
    "for atribute,importance in zip(X_train_under.columns,dt.feature_importances_):\n",
    "    print(\"{}:{}\".format(atribute, importance))"
   ]
  },
  {
   "cell_type": "code",
   "execution_count": 39,
   "id": "4ac4cc29",
   "metadata": {},
   "outputs": [
    {
     "name": "stdout",
     "output_type": "stream",
     "text": [
      "              precision    recall  f1-score   support\n",
      "\n",
      "           0       1.00      0.94      0.97    553574\n",
      "           1       0.02      0.27      0.03      2010\n",
      "\n",
      "    accuracy                           0.94    555584\n",
      "   macro avg       0.51      0.60      0.50    555584\n",
      "weighted avg       0.99      0.94      0.96    555584\n",
      "\n"
     ]
    }
   ],
   "source": [
    "result = grid_search_dt.predict(X_test)\n",
    "print(metrics.classification_report(y_test,result))"
   ]
  },
  {
   "cell_type": "code",
   "execution_count": 40,
   "id": "cbb47e0a",
   "metadata": {},
   "outputs": [
    {
     "name": "stdout",
     "output_type": "stream",
     "text": [
      "\n",
      "ROC AUC:  0.45650206185272374\n"
     ]
    },
    {
     "data": {
      "image/png": "[encoded data removed]",
      "text/plain": [
       "<Figure size 432x288 with 1 Axes>"
      ]
     },
     "metadata": {
      "needs_background": "light"
     },
     "output_type": "display_data"
    }
   ],
   "source": [
    "y_predict_proba = dt.predict_proba(X_test)[:,1]\n",
    "fpr, tpr, _ = metrics.roc_curve(y_test, y_predict_proba)\n",
    "print('\\nROC AUC: ', metrics.roc_auc_score(y_test, y_predict_proba))\n",
    "\n",
    "plt.plot(fpr, tpr)\n",
    "plt.ylabel('True Positive Rate')\n",
    "plt.xlabel('False Positive Rate')\n",
    "plt.show()"
   ]
  },
  {
   "cell_type": "code",
   "execution_count": 41,
   "id": "21012332",
   "metadata": {},
   "outputs": [
    {
     "name": "stdout",
     "output_type": "stream",
     "text": [
      "[[519199  34375]\n",
      " [  1466    544]]\n"
     ]
    }
   ],
   "source": [
    "print(metrics.confusion_matrix(y_test, result))"
   ]
  },
  {
   "cell_type": "markdown",
   "id": "61fba62a",
   "metadata": {},
   "source": [
    "## Modelo com Oversample"
   ]
  },
  {
   "cell_type": "code",
   "execution_count": 42,
   "id": "e5dc134e",
   "metadata": {},
   "outputs": [
    {
     "data": {
      "text/plain": [
       "GridSearchCV(estimator=DecisionTreeClassifier(random_state=42),\n",
       "             param_grid={'criterion': ['gini', 'entropy'],\n",
       "                         'max_depth': [2, 3, 4, 5]},\n",
       "             refit='recall',\n",
       "             scoring={'f1': make_scorer(f1_score, average=macro),\n",
       "                      'precision': make_scorer(precision_score, average=macro),\n",
       "                      'recall': make_scorer(recall_score, average=macro)})"
      ]
     },
     "execution_count": 42,
     "metadata": {},
     "output_type": "execute_result"
    }
   ],
   "source": [
    "X_train_over = data_oversample[atributes]\n",
    "y_train_over = data_oversample['is_fraud']\n",
    "\n",
    "grid_search_dt.fit(X_train_over, y_train_over)"
   ]
  },
  {
   "cell_type": "code",
   "execution_count": 43,
   "id": "6f0851e8",
   "metadata": {},
   "outputs": [],
   "source": [
    "gs_params = grid_search_dt.best_params_"
   ]
  },
  {
   "cell_type": "code",
   "execution_count": 44,
   "id": "85de01c9",
   "metadata": {},
   "outputs": [
    {
     "name": "stdout",
     "output_type": "stream",
     "text": [
      "amt:0.7206769549781553\n",
      "gender:0.0\n",
      "unix_time:4.508569625410633e-06\n",
      "sec:0.10380353540082737\n",
      "faixascategory:0.154047187462505\n",
      "faixasjob:0.0\n",
      "faixascity:0.021467813588886917\n",
      "distGeo:0.0\n"
     ]
    }
   ],
   "source": [
    "dt = DecisionTreeClassifier(random_state=42, criterion=gs_params['criterion'], max_depth=gs_params['max_depth'])\n",
    "dt = dt.fit(X_train_over, y_train_over)\n",
    "for atribute,importance in zip(X_train_over.columns,dt.feature_importances_):\n",
    "    print(\"{}:{}\".format(atribute, importance))"
   ]
  },
  {
   "cell_type": "code",
   "execution_count": 45,
   "id": "e46e911a",
   "metadata": {},
   "outputs": [
    {
     "name": "stdout",
     "output_type": "stream",
     "text": [
      "              precision    recall  f1-score   support\n",
      "\n",
      "           0       1.00      0.94      0.97    553574\n",
      "           1       0.02      0.27      0.03      2010\n",
      "\n",
      "    accuracy                           0.94    555584\n",
      "   macro avg       0.51      0.60      0.50    555584\n",
      "weighted avg       0.99      0.94      0.96    555584\n",
      "\n"
     ]
    }
   ],
   "source": [
    "result = grid_search_dt.predict(X_test)\n",
    "print(metrics.classification_report(y_test,result))"
   ]
  },
  {
   "cell_type": "code",
   "execution_count": 46,
   "id": "d429ad9e",
   "metadata": {},
   "outputs": [
    {
     "name": "stdout",
     "output_type": "stream",
     "text": [
      "\n",
      "ROC AUC:  0.4548169990333462\n"
     ]
    },
    {
     "data": {
      "image/png": "[encoded data removed]",
      "text/plain": [
       "<Figure size 432x288 with 1 Axes>"
      ]
     },
     "metadata": {
      "needs_background": "light"
     },
     "output_type": "display_data"
    }
   ],
   "source": [
    "y_predict_proba = dt.predict_proba(X_test)[:,1]\n",
    "fpr, tpr, _ = metrics.roc_curve(y_test, y_predict_proba)\n",
    "print('\\nROC AUC: ', metrics.roc_auc_score(y_test, y_predict_proba))\n",
    "\n",
    "plt.plot(fpr, tpr)\n",
    "plt.ylabel('True Positive Rate')\n",
    "plt.xlabel('False Positive Rate')\n",
    "plt.show()"
   ]
  },
  {
   "cell_type": "code",
   "execution_count": 47,
   "id": "6c8202c8",
   "metadata": {},
   "outputs": [
    {
     "name": "stdout",
     "output_type": "stream",
     "text": [
      "[[519199  34375]\n",
      " [  1466    544]]\n"
     ]
    }
   ],
   "source": [
    "print(metrics.confusion_matrix(y_test, result))"
   ]
  },
  {
   "cell_type": "markdown",
   "id": "b67855e0",
   "metadata": {},
   "source": [
    "## Modelo com SMOTE"
   ]
  },
  {
   "cell_type": "code",
   "execution_count": 48,
   "id": "657c3aba",
   "metadata": {},
   "outputs": [
    {
     "data": {
      "text/plain": [
       "GridSearchCV(estimator=DecisionTreeClassifier(random_state=42),\n",
       "             param_grid={'criterion': ['gini', 'entropy'],\n",
       "                         'max_depth': [2, 3, 4, 5]},\n",
       "             refit='recall',\n",
       "             scoring={'f1': make_scorer(f1_score, average=macro),\n",
       "                      'precision': make_scorer(precision_score, average=macro),\n",
       "                      'recall': make_scorer(recall_score, average=macro)})"
      ]
     },
     "execution_count": 48,
     "metadata": {},
     "output_type": "execute_result"
    }
   ],
   "source": [
    "X_train_smote = data_smote[atributes]\n",
    "y_train_smote = data_smote['is_fraud']\n",
    "\n",
    "grid_search_dt.fit(X_train_smote, y_train_smote)"
   ]
  },
  {
   "cell_type": "code",
   "execution_count": 49,
   "id": "526ef369",
   "metadata": {},
   "outputs": [
    {
     "data": {
      "text/plain": [
       "{'criterion': 'gini', 'max_depth': 5}"
      ]
     },
     "execution_count": 49,
     "metadata": {},
     "output_type": "execute_result"
    }
   ],
   "source": [
    "grid_search_dt.best_params_"
   ]
  },
  {
   "cell_type": "code",
   "execution_count": 50,
   "id": "6cf164a4",
   "metadata": {},
   "outputs": [
    {
     "name": "stdout",
     "output_type": "stream",
     "text": [
      "amt:0.7475889922962994\n",
      "gender:0.004673384252611172\n",
      "unix_time:0.0\n",
      "sec:0.12752596560882423\n",
      "faixascategory:0.0654889220182171\n",
      "faixasjob:0.0\n",
      "faixascity:0.05448386260585223\n",
      "distGeo:0.00023887321819596123\n"
     ]
    }
   ],
   "source": [
    "dt = DecisionTreeClassifier(random_state=42, criterion=gs_params['criterion'], max_depth=gs_params['max_depth'])\n",
    "dt = dt.fit(X_train_smote, y_train_smote)\n",
    "for atribute,importance in zip(X_train_smote.columns,dt.feature_importances_):\n",
    "    print(\"{}:{}\".format(atribute, importance))"
   ]
  },
  {
   "cell_type": "code",
   "execution_count": 70,
   "id": "78b05c81",
   "metadata": {},
   "outputs": [
    {
     "name": "stdout",
     "output_type": "stream",
     "text": [
      "              precision    recall  f1-score   support\n",
      "\n",
      "           0       1.00      0.92      0.96    553574\n",
      "           1       0.01      0.12      0.01      2010\n",
      "\n",
      "    accuracy                           0.92    555584\n",
      "   macro avg       0.50      0.52      0.48    555584\n",
      "weighted avg       0.99      0.92      0.96    555584\n",
      "\n"
     ]
    }
   ],
   "source": [
    "result = grid_search_dt.predict(X_test)\n",
    "print(metrics.classification_report(y_test,result))"
   ]
  },
  {
   "cell_type": "code",
   "execution_count": 51,
   "id": "ecd49a93",
   "metadata": {},
   "outputs": [
    {
     "name": "stdout",
     "output_type": "stream",
     "text": [
      "\n",
      "ROC AUC:  0.21240124889395795\n"
     ]
    },
    {
     "data": {
      "image/png": "[encoded data removed]",
      "text/plain": [
       "<Figure size 432x288 with 1 Axes>"
      ]
     },
     "metadata": {
      "needs_background": "light"
     },
     "output_type": "display_data"
    }
   ],
   "source": [
    "y_predict_proba = dt.predict_proba(X_test)[:,1]\n",
    "fpr, tpr, _ = metrics.roc_curve(y_test, y_predict_proba)\n",
    "print('\\nROC AUC: ', metrics.roc_auc_score(y_test, y_predict_proba))\n",
    "\n",
    "plt.plot(fpr, tpr)\n",
    "plt.ylabel('True Positive Rate')\n",
    "plt.xlabel('False Positive Rate')\n",
    "plt.show()"
   ]
  },
  {
   "cell_type": "code",
   "execution_count": 52,
   "id": "63365424",
   "metadata": {},
   "outputs": [
    {
     "name": "stdout",
     "output_type": "stream",
     "text": [
      "[[519199  34375]\n",
      " [  1466    544]]\n"
     ]
    }
   ],
   "source": [
    "print(metrics.confusion_matrix(y_test, result))"
   ]
  }
 ],
 "metadata": {
  "kernelspec": {
   "display_name": "Python 3 (ipykernel)",
   "language": "python",
   "name": "python3"
  },
  "language_info": {
   "codemirror_mode": {
    "name": "ipython",
    "version": 3
   },
   "file_extension": ".py",
   "mimetype": "text/x-python",
   "name": "python",
   "nbconvert_exporter": "python",
   "pygments_lexer": "ipython3",
   "version": "3.10.2"
  }
 },
 "nbformat": 4,
 "nbformat_minor": 5
}
