{
 "cells": [
  {
   "cell_type": "markdown",
   "id": "b03cf8b3",
   "metadata": {},
   "source": [
    "## Importações"
   ]
  },
  {
   "cell_type": "code",
   "execution_count": 19,
   "id": "0e7f3b09",
   "metadata": {},
   "outputs": [],
   "source": [
    "import pandas as pd\n",
    "from matplotlib import pyplot as plt\n",
    "from imblearn.under_sampling import RandomUnderSampler\n",
    "from imblearn.over_sampling import RandomOverSampler\n",
    "from imblearn.over_sampling import SMOTE\n",
    "from sklearn.feature_extraction.text import CountVectorizer\n",
    "import seaborn as sn"
   ]
  },
  {
   "cell_type": "code",
   "execution_count": 20,
   "id": "77d1ceab",
   "metadata": {},
   "outputs": [],
   "source": [
    "data = pd.read_csv('../data/dadosTrain.csv')"
   ]
  },
  {
   "cell_type": "code",
   "execution_count": 21,
   "id": "a76d941e",
   "metadata": {},
   "outputs": [
    {
     "data": {
      "text/html": [
       "<div>\n",
       "<style scoped>\n",
       "    .dataframe tbody tr th:only-of-type {\n",
       "        vertical-align: middle;\n",
       "    }\n",
       "\n",
       "    .dataframe tbody tr th {\n",
       "        vertical-align: top;\n",
       "    }\n",
       "\n",
       "    .dataframe thead th {\n",
       "        text-align: right;\n",
       "    }\n",
       "</style>\n",
       "<table border=\"1\" class=\"dataframe\">\n",
       "  <thead>\n",
       "    <tr style=\"text-align: right;\">\n",
       "      <th></th>\n",
       "      <th>Unnamed: 0</th>\n",
       "      <th>X</th>\n",
       "      <th>date</th>\n",
       "      <th>time</th>\n",
       "      <th>cc_num</th>\n",
       "      <th>merchant</th>\n",
       "      <th>category</th>\n",
       "      <th>amt</th>\n",
       "      <th>first</th>\n",
       "      <th>last</th>\n",
       "      <th>...</th>\n",
       "      <th>dob</th>\n",
       "      <th>trans_num</th>\n",
       "      <th>unix_time</th>\n",
       "      <th>merch_lat</th>\n",
       "      <th>merch_long</th>\n",
       "      <th>is_fraud</th>\n",
       "      <th>faixascategory</th>\n",
       "      <th>faixasjob</th>\n",
       "      <th>faixascity</th>\n",
       "      <th>distGeo</th>\n",
       "    </tr>\n",
       "  </thead>\n",
       "  <tbody>\n",
       "    <tr>\n",
       "      <th>0</th>\n",
       "      <td>1</td>\n",
       "      <td>0</td>\n",
       "      <td>2019-01-01</td>\n",
       "      <td>00:00:18</td>\n",
       "      <td>2.703186e+15</td>\n",
       "      <td>fraud_Rippin, Kub and Mann</td>\n",
       "      <td>misc_net</td>\n",
       "      <td>4.97</td>\n",
       "      <td>Jennifer</td>\n",
       "      <td>Banks</td>\n",
       "      <td>...</td>\n",
       "      <td>1988-03-09</td>\n",
       "      <td>0b242abb623afc578575680df30655b9</td>\n",
       "      <td>1325376018</td>\n",
       "      <td>36.011293</td>\n",
       "      <td>-82.048315</td>\n",
       "      <td>0</td>\n",
       "      <td>9</td>\n",
       "      <td>2</td>\n",
       "      <td>1</td>\n",
       "      <td>78773.820754</td>\n",
       "    </tr>\n",
       "    <tr>\n",
       "      <th>1</th>\n",
       "      <td>2</td>\n",
       "      <td>1</td>\n",
       "      <td>2019-01-01</td>\n",
       "      <td>00:00:44</td>\n",
       "      <td>6.304233e+11</td>\n",
       "      <td>fraud_Heller, Gutmann and Zieme</td>\n",
       "      <td>grocery_pos</td>\n",
       "      <td>107.23</td>\n",
       "      <td>Stephanie</td>\n",
       "      <td>Gill</td>\n",
       "      <td>...</td>\n",
       "      <td>1978-06-21</td>\n",
       "      <td>1f76529f8574734946361c461b024d99</td>\n",
       "      <td>1325376044</td>\n",
       "      <td>49.159047</td>\n",
       "      <td>-118.186462</td>\n",
       "      <td>0</td>\n",
       "      <td>8</td>\n",
       "      <td>2</td>\n",
       "      <td>1</td>\n",
       "      <td>30216.618410</td>\n",
       "    </tr>\n",
       "    <tr>\n",
       "      <th>2</th>\n",
       "      <td>3</td>\n",
       "      <td>2</td>\n",
       "      <td>2019-01-01</td>\n",
       "      <td>00:00:51</td>\n",
       "      <td>3.885949e+13</td>\n",
       "      <td>fraud_Lind-Buckridge</td>\n",
       "      <td>entertainment</td>\n",
       "      <td>220.11</td>\n",
       "      <td>Edward</td>\n",
       "      <td>Sanchez</td>\n",
       "      <td>...</td>\n",
       "      <td>1962-01-19</td>\n",
       "      <td>a1a22d70485983eac12b5b88dad1cf95</td>\n",
       "      <td>1325376051</td>\n",
       "      <td>43.150704</td>\n",
       "      <td>-112.154481</td>\n",
       "      <td>0</td>\n",
       "      <td>1</td>\n",
       "      <td>4</td>\n",
       "      <td>1</td>\n",
       "      <td>108102.911712</td>\n",
       "    </tr>\n",
       "    <tr>\n",
       "      <th>3</th>\n",
       "      <td>4</td>\n",
       "      <td>3</td>\n",
       "      <td>2019-01-01</td>\n",
       "      <td>00:01:16</td>\n",
       "      <td>3.534094e+15</td>\n",
       "      <td>fraud_Kutch, Hermiston and Farrell</td>\n",
       "      <td>gas_transport</td>\n",
       "      <td>45.00</td>\n",
       "      <td>Jeremy</td>\n",
       "      <td>White</td>\n",
       "      <td>...</td>\n",
       "      <td>1967-01-12</td>\n",
       "      <td>6b849c168bdad6f867558c3793159a81</td>\n",
       "      <td>1325376076</td>\n",
       "      <td>47.034331</td>\n",
       "      <td>-112.561071</td>\n",
       "      <td>0</td>\n",
       "      <td>2</td>\n",
       "      <td>3</td>\n",
       "      <td>7</td>\n",
       "      <td>95685.115476</td>\n",
       "    </tr>\n",
       "    <tr>\n",
       "      <th>4</th>\n",
       "      <td>5</td>\n",
       "      <td>4</td>\n",
       "      <td>2019-01-01</td>\n",
       "      <td>00:03:06</td>\n",
       "      <td>3.755342e+14</td>\n",
       "      <td>fraud_Keeling-Crist</td>\n",
       "      <td>misc_pos</td>\n",
       "      <td>41.96</td>\n",
       "      <td>Tyler</td>\n",
       "      <td>Garcia</td>\n",
       "      <td>...</td>\n",
       "      <td>1986-03-28</td>\n",
       "      <td>a41d7549acf90789359a9aa5346dcb46</td>\n",
       "      <td>1325376186</td>\n",
       "      <td>38.674999</td>\n",
       "      <td>-78.632459</td>\n",
       "      <td>0</td>\n",
       "      <td>1</td>\n",
       "      <td>1</td>\n",
       "      <td>1</td>\n",
       "      <td>77702.395165</td>\n",
       "    </tr>\n",
       "  </tbody>\n",
       "</table>\n",
       "<p>5 rows × 29 columns</p>\n",
       "</div>"
      ],
      "text/plain": [
       "   Unnamed: 0  X        date      time        cc_num  \\\n",
       "0           1  0  2019-01-01  00:00:18  2.703186e+15   \n",
       "1           2  1  2019-01-01  00:00:44  6.304233e+11   \n",
       "2           3  2  2019-01-01  00:00:51  3.885949e+13   \n",
       "3           4  3  2019-01-01  00:01:16  3.534094e+15   \n",
       "4           5  4  2019-01-01  00:03:06  3.755342e+14   \n",
       "\n",
       "                             merchant       category     amt      first  \\\n",
       "0          fraud_Rippin, Kub and Mann       misc_net    4.97   Jennifer   \n",
       "1     fraud_Heller, Gutmann and Zieme    grocery_pos  107.23  Stephanie   \n",
       "2                fraud_Lind-Buckridge  entertainment  220.11     Edward   \n",
       "3  fraud_Kutch, Hermiston and Farrell  gas_transport   45.00     Jeremy   \n",
       "4                 fraud_Keeling-Crist       misc_pos   41.96      Tyler   \n",
       "\n",
       "      last  ...         dob                         trans_num   unix_time  \\\n",
       "0    Banks  ...  1988-03-09  0b242abb623afc578575680df30655b9  1325376018   \n",
       "1     Gill  ...  1978-06-21  1f76529f8574734946361c461b024d99  1325376044   \n",
       "2  Sanchez  ...  1962-01-19  a1a22d70485983eac12b5b88dad1cf95  1325376051   \n",
       "3    White  ...  1967-01-12  6b849c168bdad6f867558c3793159a81  1325376076   \n",
       "4   Garcia  ...  1986-03-28  a41d7549acf90789359a9aa5346dcb46  1325376186   \n",
       "\n",
       "   merch_lat  merch_long  is_fraud  faixascategory  faixasjob faixascity  \\\n",
       "0  36.011293  -82.048315         0               9          2          1   \n",
       "1  49.159047 -118.186462         0               8          2          1   \n",
       "2  43.150704 -112.154481         0               1          4          1   \n",
       "3  47.034331 -112.561071         0               2          3          7   \n",
       "4  38.674999  -78.632459         0               1          1          1   \n",
       "\n",
       "         distGeo  \n",
       "0   78773.820754  \n",
       "1   30216.618410  \n",
       "2  108102.911712  \n",
       "3   95685.115476  \n",
       "4   77702.395165  \n",
       "\n",
       "[5 rows x 29 columns]"
      ]
     },
     "execution_count": 21,
     "metadata": {},
     "output_type": "execute_result"
    }
   ],
   "source": [
    "data.head()"
   ]
  },
  {
   "cell_type": "code",
   "execution_count": 22,
   "id": "ab0681c1",
   "metadata": {},
   "outputs": [],
   "source": [
    "data['gender'] = data['gender'].replace('F', 0)\n",
    "data['gender'] = data['gender'].replace('M', 1)"
   ]
  },
  {
   "cell_type": "code",
   "execution_count": 23,
   "id": "2d50ff47",
   "metadata": {},
   "outputs": [
    {
     "data": {
      "text/plain": [
       "Unnamed: 0          int64\n",
       "X                   int64\n",
       "date               object\n",
       "time               object\n",
       "cc_num            float64\n",
       "merchant           object\n",
       "category           object\n",
       "amt               float64\n",
       "first              object\n",
       "last               object\n",
       "gender              int64\n",
       "street             object\n",
       "city               object\n",
       "state              object\n",
       "zip                 int64\n",
       "lat               float64\n",
       "long              float64\n",
       "city_pop            int64\n",
       "job                object\n",
       "dob                object\n",
       "trans_num          object\n",
       "unix_time           int64\n",
       "merch_lat         float64\n",
       "merch_long        float64\n",
       "is_fraud            int64\n",
       "faixascategory      int64\n",
       "faixasjob           int64\n",
       "faixascity          int64\n",
       "distGeo           float64\n",
       "dtype: object"
      ]
     },
     "execution_count": 23,
     "metadata": {},
     "output_type": "execute_result"
    }
   ],
   "source": [
    "data.dtypes"
   ]
  },
  {
   "cell_type": "code",
   "execution_count": 26,
   "id": "8c0eefd3",
   "metadata": {},
   "outputs": [
    {
     "data": {
      "text/plain": [
       "0    1289169\n",
       "1       7506\n",
       "Name: is_fraud, dtype: int64"
      ]
     },
     "execution_count": 26,
     "metadata": {},
     "output_type": "execute_result"
    }
   ],
   "source": [
    "data['is_fraud'].value_counts()"
   ]
  },
  {
   "cell_type": "code",
   "execution_count": 27,
   "id": "72a06b7c",
   "metadata": {},
   "outputs": [],
   "source": [
    "count_fraud = data['is_fraud'].value_counts()[1]\n",
    "count_not_fraud = data['is_fraud'].value_counts()[0]"
   ]
  },
  {
   "cell_type": "code",
   "execution_count": 28,
   "id": "95c599e6",
   "metadata": {},
   "outputs": [
    {
     "data": {
      "image/png": "[encoded data removed]",
      "text/plain": [
       "<Figure size 432x288 with 1 Axes>"
      ]
     },
     "metadata": {
      "needs_background": "light"
     },
     "output_type": "display_data"
    }
   ],
   "source": [
    "classes = ['Fraude', 'Não-Fraude']\n",
    "values = [count_fraud, count_not_fraud]\n",
    "plt.bar(classes, values)\n",
    "plt.show()"
   ]
  },
  {
   "cell_type": "markdown",
   "id": "df5d9888",
   "metadata": {},
   "source": [
    "## Aplicando técnicas de Over/Under sampling"
   ]
  },
  {
   "cell_type": "code",
   "execution_count": 29,
   "id": "071dd66f",
   "metadata": {},
   "outputs": [],
   "source": [
    "X = data.drop(['is_fraud'], axis=1)\n",
    "y = data['is_fraud']"
   ]
  },
  {
   "cell_type": "code",
   "execution_count": 30,
   "id": "140c0063",
   "metadata": {},
   "outputs": [
    {
     "data": {
      "text/plain": [
       "0    1289169\n",
       "1       7506\n",
       "Name: is_fraud, dtype: int64"
      ]
     },
     "execution_count": 30,
     "metadata": {},
     "output_type": "execute_result"
    }
   ],
   "source": [
    "y.value_counts()"
   ]
  },
  {
   "cell_type": "code",
   "execution_count": 31,
   "id": "a00984ac",
   "metadata": {},
   "outputs": [
    {
     "data": {
      "image/png": "[encoded data removed]",
      "text/plain": [
       "<Figure size 432x288 with 1 Axes>"
      ]
     },
     "metadata": {},
     "output_type": "display_data"
    }
   ],
   "source": [
    "ax = y.value_counts().plot.pie(autopct='%.2f')\n",
    "_ = ax.set_title(\"is_fraud distribution\")"
   ]
  },
  {
   "cell_type": "markdown",
   "id": "08be31c5",
   "metadata": {},
   "source": [
    "## Random Undersampling"
   ]
  },
  {
   "cell_type": "code",
   "execution_count": 32,
   "id": "afc24606",
   "metadata": {},
   "outputs": [
    {
     "data": {
      "image/png": "[encoded data removed]",
      "text/plain": [
       "<Figure size 432x288 with 1 Axes>"
      ]
     },
     "metadata": {},
     "output_type": "display_data"
    }
   ],
   "source": [
    "rus = RandomUnderSampler(sampling_strategy=1)\n",
    "X_res_under, y_res_under = rus.fit_resample(X, y)\n",
    "\n",
    "ax = y_res_under.value_counts().plot.pie(autopct='%.2f')\n",
    "_ = ax.set_title(\"Random Undersampling\")"
   ]
  },
  {
   "cell_type": "code",
   "execution_count": 33,
   "id": "e76afdd6",
   "metadata": {},
   "outputs": [
    {
     "data": {
      "text/plain": [
       "0    7506\n",
       "1    7506\n",
       "Name: is_fraud, dtype: int64"
      ]
     },
     "execution_count": 33,
     "metadata": {},
     "output_type": "execute_result"
    }
   ],
   "source": [
    "y_res_under.value_counts()"
   ]
  },
  {
   "cell_type": "code",
   "execution_count": 34,
   "id": "815a64ab",
   "metadata": {},
   "outputs": [],
   "source": [
    "under_result = pd.concat([X_res_under, y_res_under], axis=1)"
   ]
  },
  {
   "cell_type": "code",
   "execution_count": 35,
   "id": "0df225e6",
   "metadata": {},
   "outputs": [],
   "source": [
    "under_result.to_csv('undersample_data.csv')"
   ]
  },
  {
   "cell_type": "markdown",
   "id": "3daf2c45",
   "metadata": {},
   "source": [
    "## Random Oversampling"
   ]
  },
  {
   "cell_type": "code",
   "execution_count": 36,
   "id": "7b461bcb",
   "metadata": {},
   "outputs": [
    {
     "data": {
      "image/png": "[encoded data removed]",
      "text/plain": [
       "<Figure size 432x288 with 1 Axes>"
      ]
     },
     "metadata": {},
     "output_type": "display_data"
    }
   ],
   "source": [
    "ros = RandomOverSampler(sampling_strategy=1)\n",
    "X_res_over, y_res_over = ros.fit_resample(X, y)\n",
    "\n",
    "ax = y_res_over.value_counts().plot.pie(autopct='%.2f')\n",
    "_ = ax.set_title(\"Random Oversampling\")"
   ]
  },
  {
   "cell_type": "code",
   "execution_count": 37,
   "id": "f653afdb",
   "metadata": {},
   "outputs": [
    {
     "data": {
      "text/plain": [
       "0    1289169\n",
       "1    1289169\n",
       "Name: is_fraud, dtype: int64"
      ]
     },
     "execution_count": 37,
     "metadata": {},
     "output_type": "execute_result"
    }
   ],
   "source": [
    "y_res_over.value_counts()"
   ]
  },
  {
   "cell_type": "code",
   "execution_count": 38,
   "id": "0c9a460d",
   "metadata": {},
   "outputs": [],
   "source": [
    "over_result = pd.concat([X_res_over, y_res_over], axis=1)"
   ]
  },
  {
   "cell_type": "code",
   "execution_count": 39,
   "id": "4e09f623",
   "metadata": {},
   "outputs": [],
   "source": [
    "over_result.to_csv('oversample_data.csv')"
   ]
  },
  {
   "cell_type": "markdown",
   "id": "7341d061",
   "metadata": {},
   "source": [
    "## SMOTE"
   ]
  },
  {
   "cell_type": "code",
   "execution_count": 40,
   "id": "c738b897",
   "metadata": {},
   "outputs": [
    {
     "data": {
      "text/plain": [
       "<AxesSubplot:>"
      ]
     },
     "execution_count": 40,
     "metadata": {},
     "output_type": "execute_result"
    },
    {
     "data": {
      "image/png": "[encoded data removed]",
      "text/plain": [
       "<Figure size 432x288 with 2 Axes>"
      ]
     },
     "metadata": {
      "needs_background": "light"
     },
     "output_type": "display_data"
    }
   ],
   "source": [
    "# verifica a correlação entre as variáveis do dataset\n",
    "correlation = data.corr()\n",
    "\n",
    "plot = sn.heatmap(correlation, annot = True, fmt=\".1f\", linewidths=.6)\n",
    "plot"
   ]
  },
  {
   "cell_type": "code",
   "execution_count": 41,
   "id": "0d9c0893",
   "metadata": {},
   "outputs": [],
   "source": [
    "atributes = ['cc_num', 'gender', 'amt', 'zip', 'lat', 'long', 'merch_lat', 'merch_long','city_pop', 'unix_time']\n",
    "X = data[atributes]\n",
    "y = data['is_fraud']"
   ]
  },
  {
   "cell_type": "code",
   "execution_count": 42,
   "id": "02b984ec",
   "metadata": {},
   "outputs": [],
   "source": [
    "smt = SMOTE()\n",
    "X_res_sm, y_res_sm = smt.fit_resample(X, y)"
   ]
  },
  {
   "cell_type": "code",
   "execution_count": 43,
   "id": "6d7ea67f",
   "metadata": {},
   "outputs": [
    {
     "data": {
      "image/png": "[encoded data removed]",
      "text/plain": [
       "<Figure size 432x288 with 1 Axes>"
      ]
     },
     "metadata": {},
     "output_type": "display_data"
    }
   ],
   "source": [
    "ax = y_res_sm.value_counts().plot.pie(autopct='%.2f')\n",
    "_ = ax.set_title(\"SMOTE\")"
   ]
  },
  {
   "cell_type": "code",
   "execution_count": 44,
   "id": "639aedfd",
   "metadata": {},
   "outputs": [
    {
     "data": {
      "text/plain": [
       "0    1289169\n",
       "1    1289169\n",
       "Name: is_fraud, dtype: int64"
      ]
     },
     "execution_count": 44,
     "metadata": {},
     "output_type": "execute_result"
    }
   ],
   "source": [
    "y_res_sm.value_counts()"
   ]
  },
  {
   "cell_type": "code",
   "execution_count": 45,
   "id": "70c85e6f",
   "metadata": {},
   "outputs": [],
   "source": [
    "sm_result = pd.concat([X_res_sm, y_res_sm], axis=1)"
   ]
  },
  {
   "cell_type": "code",
   "execution_count": 46,
   "id": "cb5af948",
   "metadata": {},
   "outputs": [],
   "source": [
    "sm_result.to_csv('smote_data.csv')"
   ]
  }
 ],
 "metadata": {
  "kernelspec": {
   "display_name": "Python 3 (ipykernel)",
   "language": "python",
   "name": "python3"
  },
  "language_info": {
   "codemirror_mode": {
    "name": "ipython",
    "version": 3
   },
   "file_extension": ".py",
   "mimetype": "text/x-python",
   "name": "python",
   "nbconvert_exporter": "python",
   "pygments_lexer": "ipython3",
   "version": "3.10.2"
  }
 },
 "nbformat": 4,
 "nbformat_minor": 5
}
