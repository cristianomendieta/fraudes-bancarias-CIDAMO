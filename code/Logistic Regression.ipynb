{
 "cells": [
  {
   "cell_type": "code",
   "execution_count": 1,
   "id": "8a3ebafe",
   "metadata": {},
   "outputs": [],
   "source": [
    "import pandas as pd\n",
    "from sklearn.linear_model import LogisticRegression\n",
    "import sklearn.metrics as mt\n",
    "from sklearn.preprocessing import MinMaxScaler as mms\n",
    "import matplotlib as plt\n",
    "import matplotlib.pyplot as plt\n",
    "from sklearn.model_selection import GridSearchCV\n",
    "\n",
    "data_raw = pd.read_csv(\"dadosTrain.csv\")\n",
    "data_over = pd.read_csv(\"oversample_data.csv\")\n",
    "data_under = pd.read_csv(\"undersample_data.csv\")\n",
    "data_smote = pd.read_csv(\"smote_data.csv\")\n",
    "data_test = pd.read_csv(\"dadosTest.csv\")\n",
    "\n",
    "atributes = ['unix_time','amt', 'gender', 'sec', 'faixascategory', 'faixasjob', 'faixascity', 'distGeo']"
   ]
  },
  {
   "cell_type": "markdown",
   "id": "3bb1d11e",
   "metadata": {},
   "source": [
    "# DATA TRAIN"
   ]
  },
  {
   "cell_type": "code",
   "execution_count": 8,
   "id": "ca4b20f0",
   "metadata": {},
   "outputs": [
    {
     "data": {
      "text/plain": [
       "{'C': 0.01, 'penalty': 'l1', 'solver': 'saga'}"
      ]
     },
     "execution_count": 8,
     "metadata": {},
     "output_type": "execute_result"
    }
   ],
   "source": [
    "X = data_raw[atributes]\n",
    "Y = data_raw[\"is_fraud\"]\n",
    "X_test = data_test[atributes]\n",
    "Y_test = data_test['is_fraud']\n",
    "\n",
    "scaler = mms().fit(X)\n",
    "\n",
    "X_train = scaler.transform(X)\n",
    "X_test = scaler.transform(X_test)\n",
    "Y_train = Y\n",
    "Y_test = data_test['is_fraud']\n",
    "\n",
    "lr = LogisticRegression(random_state = 42)\n",
    "param_grid = { \n",
    "    'solver': ['liblinear','saga'],\n",
    "    'penalty': ['l1','l2'], \n",
    "    'C': [0.001,0.01,0.1,1,10,100,1000],\n",
    "}\n",
    "CV_lr = GridSearchCV(estimator=lr, param_grid=param_grid, cv=2)\n",
    "CV_lr.fit(X_train, Y_train)\n",
    "\n",
    "CV_lr.best_params_"
   ]
  },
  {
   "cell_type": "code",
   "execution_count": 9,
   "id": "11f7d410",
   "metadata": {},
   "outputs": [
    {
     "name": "stdout",
     "output_type": "stream",
     "text": [
      "Classification metrics: \n",
      "               precision    recall  f1-score   support\n",
      "\n",
      "           0       1.00      1.00      1.00    553574\n",
      "           1       0.26      0.00      0.01      2010\n",
      "\n",
      "    accuracy                           1.00    555584\n",
      "   macro avg       0.63      0.50      0.50    555584\n",
      "weighted avg       0.99      1.00      0.99    555584\n",
      "\n",
      "\n",
      "Confusion Matrix :\n",
      " [[553557     17]\n",
      " [  2004      6]]\n",
      "\n",
      "Acuracia: 0.9963623862458242\n",
      "\n",
      "ROC AUC: 0.5574075451125042 \n",
      "\n"
     ]
    },
    {
     "data": {
      "image/png": "[encoded data removed]",
      "text/plain": [
       "<Figure size 432x288 with 1 Axes>"
      ]
     },
     "metadata": {
      "needs_background": "light"
     },
     "output_type": "display_data"
    }
   ],
   "source": [
    "lr = LogisticRegression(random_state=42, penalty= \"l1\", C= 0.01, solver = 'saga')\n",
    "lr = lr.fit(X_train, Y_train)\n",
    "\n",
    "Y_predict = lr.predict(X_test)\n",
    "\n",
    "print('Classification metrics: \\n', mt.classification_report(Y_test,Y_predict))\n",
    "print('\\nConfusion Matrix :\\n', mt.confusion_matrix(Y_test, Y_predict))\n",
    "print('\\nAcuracia:', mt.accuracy_score(Y_test, Y_predict))\n",
    "\n",
    "Y_predict_proba = lr.predict_proba(X_test)[:,1]\n",
    "fpr, tpr, _ = mt.roc_curve(Y_test, Y_predict_proba)\n",
    "print('\\nROC AUC:', mt.roc_auc_score(Y_test, Y_predict_proba),'\\n')\n",
    "\n",
    "plt.plot(fpr,tpr)\n",
    "plt.ylabel('True Positive Rate')\n",
    "plt.xlabel('False Positive Rate')\n",
    "plt.show()"
   ]
  },
  {
   "cell_type": "markdown",
   "id": "3770562a",
   "metadata": {},
   "source": [
    "# OVERSAMPLE"
   ]
  },
  {
   "cell_type": "code",
   "execution_count": 6,
   "id": "1022fa87",
   "metadata": {},
   "outputs": [
    {
     "data": {
      "text/plain": [
       "{'C': 1000, 'penalty': 'l1', 'solver': 'liblinear'}"
      ]
     },
     "execution_count": 6,
     "metadata": {},
     "output_type": "execute_result"
    }
   ],
   "source": [
    "X = data_over[atributes]\n",
    "Y = data_over[\"is_fraud\"]\n",
    "X_test = data_test[atributes]\n",
    "Y_test = data_test['is_fraud']\n",
    "\n",
    "scaler = mms().fit(X)\n",
    "\n",
    "X_train = scaler.transform(X)\n",
    "X_test = scaler.transform(X_test)\n",
    "Y_train = Y\n",
    "Y_test = data_test['is_fraud']\n",
    "\n",
    "lr = LogisticRegression(random_state = 42)\n",
    "param_grid = { \n",
    "    'solver': ['liblinear','saga'],\n",
    "    'penalty': ['l1','l2'], \n",
    "    'C': [0.001,0.01,0.1,1,10,100,1000],\n",
    "}\n",
    "CV_lr = GridSearchCV(estimator=lr, param_grid=param_grid, cv=2)\n",
    "CV_lr.fit(X_train, Y_train)\n",
    "\n",
    "CV_lr.best_params_"
   ]
  },
  {
   "cell_type": "code",
   "execution_count": 7,
   "id": "7ea3ca02",
   "metadata": {},
   "outputs": [
    {
     "name": "stdout",
     "output_type": "stream",
     "text": [
      "Classification metrics: \n",
      "               precision    recall  f1-score   support\n",
      "\n",
      "           0       1.00      0.94      0.97    553574\n",
      "           1       0.03      0.52      0.06      2010\n",
      "\n",
      "    accuracy                           0.94    555584\n",
      "   macro avg       0.51      0.73      0.51    555584\n",
      "weighted avg       0.99      0.94      0.97    555584\n",
      "\n",
      "\n",
      "Confusion Matrix :\n",
      " [[521651  31923]\n",
      " [   967   1043]]\n",
      "\n",
      "Acuracia: 0.9408010309872135\n",
      "\n",
      "ROC AUC: 0.757396808009435 \n",
      "\n"
     ]
    },
    {
     "data": {
      "image/png": "[encoded data removed]",
      "text/plain": [
       "<Figure size 432x288 with 1 Axes>"
      ]
     },
     "metadata": {
      "needs_background": "light"
     },
     "output_type": "display_data"
    }
   ],
   "source": [
    "lr = LogisticRegression(random_state=42, penalty= \"l1\", C= 1000, solver = 'liblinear')\n",
    "lr = lr.fit(X_train, Y_train)\n",
    "\n",
    "Y_predict = lr.predict(X_test)\n",
    "\n",
    "print('Classification metrics: \\n', mt.classification_report(Y_test,Y_predict))\n",
    "print('\\nConfusion Matrix :\\n', mt.confusion_matrix(Y_test, Y_predict))\n",
    "print('\\nAcuracia:', mt.accuracy_score(Y_test, Y_predict))\n",
    "\n",
    "Y_predict_proba = lr.predict_proba(X_test)[:,1]\n",
    "fpr, tpr, _ = mt.roc_curve(Y_test, Y_predict_proba)\n",
    "print('\\nROC AUC:', mt.roc_auc_score(Y_test, Y_predict_proba),'\\n')\n",
    "\n",
    "plt.plot(fpr,tpr)\n",
    "plt.ylabel('True Positive Rate')\n",
    "plt.xlabel('False Positive Rate')\n",
    "plt.show()"
   ]
  },
  {
   "cell_type": "markdown",
   "id": "9c0f92b4",
   "metadata": {},
   "source": [
    "# UNDERSAMPLE"
   ]
  },
  {
   "cell_type": "code",
   "execution_count": 4,
   "id": "179c41ac",
   "metadata": {},
   "outputs": [
    {
     "data": {
      "text/plain": [
       "{'C': 10, 'penalty': 'l1', 'solver': 'liblinear'}"
      ]
     },
     "execution_count": 4,
     "metadata": {},
     "output_type": "execute_result"
    }
   ],
   "source": [
    "X = data_under[atributes]\n",
    "Y = data_under[\"is_fraud\"]\n",
    "X_test = data_test[atributes]\n",
    "Y_test = data_test['is_fraud']\n",
    "\n",
    "scaler = mms().fit(X)\n",
    "\n",
    "X_train = scaler.transform(X)\n",
    "X_test = scaler.transform(X_test)\n",
    "Y_train = Y\n",
    "Y_test = data_test['is_fraud']\n",
    "\n",
    "lr = LogisticRegression(random_state = 42)\n",
    "param_grid = { \n",
    "    'solver': ['liblinear','saga'],\n",
    "    'penalty': ['l1','l2'], \n",
    "    'C': [0.001,0.01,0.1,1,10,100,1000],\n",
    "}\n",
    "CV_lr = GridSearchCV(estimator=lr, param_grid=param_grid, cv=2)\n",
    "CV_lr.fit(X_train, Y_train)\n",
    "\n",
    "CV_lr.best_params_"
   ]
  },
  {
   "cell_type": "code",
   "execution_count": 5,
   "id": "05124534",
   "metadata": {},
   "outputs": [
    {
     "name": "stdout",
     "output_type": "stream",
     "text": [
      "Classification metrics: \n",
      "               precision    recall  f1-score   support\n",
      "\n",
      "           0       1.00      0.94      0.97    553574\n",
      "           1       0.03      0.52      0.06      2010\n",
      "\n",
      "    accuracy                           0.94    555584\n",
      "   macro avg       0.52      0.73      0.52    555584\n",
      "weighted avg       0.99      0.94      0.97    555584\n",
      "\n",
      "\n",
      "Confusion Matrix :\n",
      " [[522709  30865]\n",
      " [   973   1037]]\n",
      "\n",
      "Acuracia: 0.9426945340398571\n",
      "\n",
      "ROC AUC: 0.7583487559546794 \n",
      "\n"
     ]
    },
    {
     "data": {
      "image/png": "[encoded data removed]",
      "text/plain": [
       "<Figure size 432x288 with 1 Axes>"
      ]
     },
     "metadata": {
      "needs_background": "light"
     },
     "output_type": "display_data"
    }
   ],
   "source": [
    "lr = LogisticRegression(random_state=42, penalty= \"l1\", C= 10, solver = 'liblinear')\n",
    "lr = lr.fit(X_train, Y_train)\n",
    "\n",
    "Y_predict = lr.predict(X_test)\n",
    "\n",
    "print('Classification metrics: \\n', mt.classification_report(Y_test,Y_predict))\n",
    "print('\\nConfusion Matrix :\\n', mt.confusion_matrix(Y_test, Y_predict))\n",
    "print('\\nAcuracia:', mt.accuracy_score(Y_test, Y_predict))\n",
    "\n",
    "Y_predict_proba = lr.predict_proba(X_test)[:,1]\n",
    "fpr, tpr, _ = mt.roc_curve(Y_test, Y_predict_proba)\n",
    "print('\\nROC AUC:', mt.roc_auc_score(Y_test, Y_predict_proba),'\\n')\n",
    "\n",
    "plt.plot(fpr,tpr)\n",
    "plt.ylabel('True Positive Rate')\n",
    "plt.xlabel('False Positive Rate')\n",
    "plt.show()"
   ]
  },
  {
   "cell_type": "markdown",
   "id": "e408298f",
   "metadata": {},
   "source": [
    "# SMOTE"
   ]
  },
  {
   "cell_type": "code",
   "execution_count": 2,
   "id": "aea985fb",
   "metadata": {},
   "outputs": [
    {
     "data": {
      "text/plain": [
       "{'C': 100, 'penalty': 'l1', 'solver': 'saga'}"
      ]
     },
     "execution_count": 2,
     "metadata": {},
     "output_type": "execute_result"
    }
   ],
   "source": [
    "X = data_smote[atributes]\n",
    "Y = data_smote[\"is_fraud\"]\n",
    "X_test = data_test[atributes]\n",
    "Y_test = data_test['is_fraud']\n",
    "\n",
    "scaler = mms().fit(X)\n",
    "\n",
    "X_train = scaler.transform(X)\n",
    "X_test = scaler.transform(X_test)\n",
    "Y_train = Y\n",
    "Y_test = data_test['is_fraud']\n",
    "\n",
    "lr = LogisticRegression(random_state = 42)\n",
    "param_grid = { \n",
    "    'solver': ['liblinear','saga'],\n",
    "    'penalty': ['l1','l2'], \n",
    "    'C': [0.001,0.01,0.1,1,10,100,1000],\n",
    "}\n",
    "CV_lr = GridSearchCV(estimator=lr, param_grid=param_grid, cv=2)\n",
    "CV_lr.fit(X_train, Y_train)\n",
    "\n",
    "CV_lr.best_params_"
   ]
  },
  {
   "cell_type": "code",
   "execution_count": 3,
   "id": "3ce99e10",
   "metadata": {},
   "outputs": [
    {
     "name": "stdout",
     "output_type": "stream",
     "text": [
      "Classification metrics: \n",
      "               precision    recall  f1-score   support\n",
      "\n",
      "           0       1.00      0.95      0.98    553574\n",
      "           1       0.05      0.60      0.09      2010\n",
      "\n",
      "    accuracy                           0.95    555584\n",
      "   macro avg       0.52      0.78      0.53    555584\n",
      "weighted avg       1.00      0.95      0.97    555584\n",
      "\n",
      "\n",
      "Confusion Matrix :\n",
      " [[528501  25073]\n",
      " [   806   1204]]\n",
      "\n",
      "Acuracia: 0.9534201848865338\n",
      "\n",
      "ROC AUC: 0.7938305191733998 \n",
      "\n"
     ]
    },
    {
     "data": {
      "image/png": "[encoded data removed]",
      "text/plain": [
       "<Figure size 432x288 with 1 Axes>"
      ]
     },
     "metadata": {
      "needs_background": "light"
     },
     "output_type": "display_data"
    }
   ],
   "source": [
    "lr = LogisticRegression(random_state=42, penalty= \"l1\", C= 100, solver = 'saga')\n",
    "lr = lr.fit(X_train, Y_train)\n",
    "\n",
    "Y_predict = lr.predict(X_test)\n",
    "\n",
    "print('Classification metrics: \\n', mt.classification_report(Y_test,Y_predict))\n",
    "print('\\nConfusion Matrix :\\n', mt.confusion_matrix(Y_test, Y_predict))\n",
    "print('\\nAcuracia:', mt.accuracy_score(Y_test, Y_predict))\n",
    "\n",
    "Y_predict_proba = lr.predict_proba(X_test)[:,1]\n",
    "fpr, tpr, _ = mt.roc_curve(Y_test, Y_predict_proba)\n",
    "print('\\nROC AUC:', mt.roc_auc_score(Y_test, Y_predict_proba),'\\n')\n",
    "\n",
    "plt.plot(fpr,tpr)\n",
    "plt.ylabel('True Positive Rate')\n",
    "plt.xlabel('False Positive Rate')\n",
    "plt.show()"
   ]
  }
 ],
 "metadata": {
  "kernelspec": {
   "display_name": "Python 3 (ipykernel)",
   "language": "python",
   "name": "python3"
  },
  "language_info": {
   "codemirror_mode": {
    "name": "ipython",
    "version": 3
   },
   "file_extension": ".py",
   "mimetype": "text/x-python",
   "name": "python",
   "nbconvert_exporter": "python",
   "pygments_lexer": "ipython3",
   "version": "3.9.7"
  }
 },
 "nbformat": 4,
 "nbformat_minor": 5
}
